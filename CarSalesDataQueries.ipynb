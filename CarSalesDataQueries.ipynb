{
 "cells": [
  {
   "cell_type": "code",
   "execution_count": 29,
   "metadata": {},
   "outputs": [],
   "source": [
    "import pandas as pd\n",
    "import configparser "
   ]
  },
  {
   "cell_type": "code",
   "execution_count": 30,
   "metadata": {},
   "outputs": [],
   "source": [
    "config = configparser.ConfigParser()\n",
    "config.read('config.ini')\n",
    "CAR_SALES_DATA = config['Paths']['car_sales_data_file']"
   ]
  },
  {
   "cell_type": "code",
   "execution_count": 31,
   "metadata": {},
   "outputs": [],
   "source": [
    "df_Clients = pd.read_excel(CAR_SALES_DATA, sheet_name='Clients')\n",
    "df_Colors = pd.read_excel(CAR_SALES_DATA, sheet_name='Colors')\n",
    "df_Countries = pd.read_excel(CAR_SALES_DATA, sheet_name='Countries')\n",
    "df_Stock = pd.read_excel(CAR_SALES_DATA, sheet_name='Stock')\n",
    "df_Invoices = pd.read_excel(CAR_SALES_DATA, sheet_name='Invoices')\n",
    "df_InvoiceLines = pd.read_excel(CAR_SALES_DATA, sheet_name='InvoiceLines')\n",
    "df_DateDimension = pd.read_excel(CAR_SALES_DATA, sheet_name='DateDimension')"
   ]
  },
  {
   "cell_type": "markdown",
   "metadata": {},
   "source": [
    "1. Create a query that returns the top 3 car brands most sold (i.e., having the most car brand sales) during\n",
    "first and third quarter of year 2015."
   ]
  },
  {
   "cell_type": "code",
   "execution_count": 32,
   "metadata": {},
   "outputs": [
    {
     "name": "stdout",
     "output_type": "stream",
     "text": [
      "    Year  Quarter          Make  SalesCount\n",
      "2   2015        1        Jaguar          16\n",
      "0   2015        1  Aston Martin          14\n",
      "1   2015        1       Bentley           8\n",
      "9   2015        3        Jaguar          14\n",
      "7   2015        3  Aston Martin          10\n",
      "11  2015        3   Rolls Royce           8\n"
     ]
    }
   ],
   "source": [
    "# Join invoices with invoice_line\n",
    "df_merged = pd.merge(df_Invoices, df_InvoiceLines, on=\"InvoiceID\")\n",
    "\n",
    "# Join the above with stock\n",
    "df_merged = pd.merge(df_merged, df_Stock, on=\"StockID\")\n",
    "\n",
    "# Convert InvoiceDateKey to string to extract year and month\n",
    "df_merged['InvoiceDateKey'] = df_merged['InvoiceDateKey'].astype(str)\n",
    "df_merged['Year'] = df_merged['InvoiceDateKey'].str[:4].astype(int)\n",
    "df_merged['Month'] = df_merged['InvoiceDateKey'].str[4:6].astype(int)\n",
    "\n",
    "df_merged['Quarter'] = ((df_merged['Month'] - 1) // 3) + 1\n",
    "\n",
    "# Filter by the year 2015 and by quarters 1 and 3\n",
    "df_filtered_2015 = df_merged[(df_merged['Year'] == 2015) & (df_merged['Quarter'].isin([1, 3]))]\n",
    "\n",
    "# Group by year, quarter and brand (Make), and count the number of sales by brand\n",
    "brand_sales_count = df_filtered_2015.groupby(['Year', 'Quarter', 'Make']).size().reset_index(name='SalesCount')\n",
    "\n",
    "top_brand_sales = brand_sales_count.sort_values(by=['Year', 'Quarter', 'SalesCount'], ascending=[True, True, False])\n",
    "\n",
    "# Select the top 3 best-selling brands for each selected quarter\n",
    "top_brands_per_selected_quarters = top_brand_sales.groupby(['Year', 'Quarter']).head(3)\n",
    "\n",
    "print(top_brands_per_selected_quarters)"
   ]
  },
  {
   "cell_type": "markdown",
   "metadata": {},
   "source": [
    "2. Create a query that shows the top 3 most sold car colors (i.e., having the most car color sales) for each quarter for the years 2012, 2013, 2014, 2015."
   ]
  },
  {
   "cell_type": "code",
   "execution_count": 33,
   "metadata": {},
   "outputs": [
    {
     "name": "stdout",
     "output_type": "stream",
     "text": [
      "     Year  Quarter                 Color  SalesCount\n",
      "1    2012        1                  Blue           4\n",
      "0    2012        1                 Black           1\n",
      "2    2012        1  British Racing Green           1\n",
      "7    2012        2         Canary Yellow           4\n",
      "8    2012        2           Dark Purple           2\n",
      "6    2012        2  British Racing Green           1\n",
      "12   2012        3                  Blue           2\n",
      "18   2012        3                Silver           2\n",
      "11   2012        3                 Black           1\n",
      "21   2012        4         Canary Yellow           3\n",
      "19   2012        4                 Black           2\n",
      "20   2012        4  British Racing Green           2\n",
      "30   2013        1                 Green           6\n",
      "27   2013        1  British Racing Green           4\n",
      "29   2013        1           Dark Purple           4\n",
      "40   2013        2                   Red          11\n",
      "36   2013        2         Canary Yellow           7\n",
      "39   2013        2            Night Blue           4\n",
      "43   2013        3                  Blue           5\n",
      "50   2013        3                Silver           5\n",
      "42   2013        3                 Black           3\n",
      "52   2013        4                  Blue           6\n",
      "57   2013        4                   Red           6\n",
      "54   2013        4         Canary Yellow           4\n",
      "59   2014        1                  Blue           6\n",
      "63   2014        1                 Green           4\n",
      "60   2014        1  British Racing Green           2\n",
      "67   2014        2         Canary Yellow           6\n",
      "69   2014        2                   Red           4\n",
      "65   2014        2                 Black           2\n",
      "72   2014        3                  Blue           4\n",
      "74   2014        3         Canary Yellow           4\n",
      "71   2014        3                 Black           2\n",
      "80   2014        4         Canary Yellow           9\n",
      "83   2014        4                Silver           6\n",
      "78   2014        4                 Black           2\n",
      "86   2015        1  British Racing Green          10\n",
      "85   2015        1                  Blue           8\n",
      "88   2015        1           Dark Purple           8\n",
      "99   2015        2                   Red          22\n",
      "93   2015        2                 Black           8\n",
      "96   2015        2         Canary Yellow           8\n",
      "104  2015        3         Canary Yellow          10\n",
      "105  2015        3           Dark Purple           8\n",
      "109  2015        3                Silver           8\n",
      "117  2015        4                   Red          14\n",
      "111  2015        4                  Blue          10\n",
      "118  2015        4                Silver          10\n"
     ]
    }
   ],
   "source": [
    "# Join the result with colors\n",
    "df_merged = pd.merge(df_merged, df_Colors, on=\"ColorID\")\n",
    "\n",
    "# Convert InvoiceDateKey to string to extract year and month\n",
    "df_merged['InvoiceDateKey'] = df_merged['InvoiceDateKey'].astype(str)\n",
    "df_merged['Year'] = df_merged['InvoiceDateKey'].str[:4].astype(int)\n",
    "df_merged['Month'] = df_merged['InvoiceDateKey'].str[4:6].astype(int)\n",
    "df_merged['Quarter'] = ((df_merged['Month'] - 1) // 3) + 1\n",
    "\n",
    "df_filtered = df_merged[df_merged['Year'].isin([2012, 2013, 2014, 2015])]\n",
    "\n",
    "# Group by year, quarter and color, and count the number of sales by color\n",
    "sales_count = df_filtered.groupby(['Year', 'Quarter', 'Color']).size().reset_index(name='SalesCount')\n",
    "top_sales = sales_count.sort_values(by=['Year', 'Quarter', 'SalesCount'], ascending=[True, True, False])\n",
    "\n",
    "# Select the top 3 best-selling colors for each quarter and year\n",
    "top_colors_per_quarter = top_sales.groupby(['Year', 'Quarter']).head(3)\n",
    "\n",
    "print(top_colors_per_quarter)\n"
   ]
  }
 ],
 "metadata": {
  "kernelspec": {
   "display_name": "Python 3",
   "language": "python",
   "name": "python3"
  },
  "language_info": {
   "codemirror_mode": {
    "name": "ipython",
    "version": 3
   },
   "file_extension": ".py",
   "mimetype": "text/x-python",
   "name": "python",
   "nbconvert_exporter": "python",
   "pygments_lexer": "ipython3",
   "version": "3.12.2"
  }
 },
 "nbformat": 4,
 "nbformat_minor": 2
}
