{
 "cells": [
  {
   "cell_type": "markdown",
   "metadata": {},
   "source": [
    "1. Define the required classes, methods and properties based on CarSalesDataforReports Excel file."
   ]
  },
  {
   "cell_type": "code",
   "execution_count": 2,
   "metadata": {},
   "outputs": [],
   "source": [
    "# Client class\n",
    "class Client: \n",
    "  def __init__(self, clientID, countryID, clientName, address1, address2, town,\n",
    "               county, postCode, region, outerPostCode, clientType, clientSize,\n",
    "               clientSince, isCreditWorthy, isDealer):\n",
    "    self.clientID = clientID\n",
    "    self.countryID = countryID\n",
    "    self.clientName = clientName\n",
    "    self.address1 = address1\n",
    "    self.address2 = address2\n",
    "    self.town = town\n",
    "    self.county = county\n",
    "    self.postCode = postCode\n",
    "    self.region = region\n",
    "    self.outerPostCode = outerPostCode\n",
    "    self.clientType = clientType\n",
    "    self.clientSize = clientSize\n",
    "    self.clientSince = clientSince\n",
    "    self.isCreditWorthy = isCreditWorthy\n",
    "    self.isDealer = isDealer\n",
    "\n",
    "  def displayClient(self): \n",
    "    print('-----CLIENT----- ')\n",
    "    print('ID: ', self.clientID )\n",
    "    print('CountryId: ', self.countryID)\n",
    "    print('Name: ', self.clientName )\n",
    "    print('Address #1: ', self.address1)\n",
    "    print('address #2: ', self.address2)\n",
    "    print('Town: ', self.town)\n",
    "    print('County: ', self.county)\n",
    "    print('PostCode: ', self.postCode)\n",
    "    print('Region: ', self.region)\n",
    "    print('Outer PostCode: ', self.outerPostCode)\n",
    "    print('Type: ', self.clientType)\n",
    "    print('Size: ', self.clientSize)\n",
    "    print('Since: ', self.clientSince)\n",
    "    print('CreditWorthy: ', self.isCreditWorthy)\n",
    "    print('Dealer: ', self.isDealer)"
   ]
  },
  {
   "cell_type": "code",
   "execution_count": 3,
   "metadata": {},
   "outputs": [
    {
     "name": "stdout",
     "output_type": "stream",
     "text": [
      "-----CLIENT----- \n",
      "ID:  1\n",
      "CountryId:  Aldo Motors\n",
      "Name:  4, Scale Street\n",
      "Address #1:  \n",
      "address #2:  Ottoxeter\n",
      "Town:  Staffs\n",
      "County:  ST17 99RZ\n",
      "PostCode:  East Midlans\n",
      "Region:  ST\n",
      "Outer PostCode:  1\n",
      "Type:  Wholesaler\n",
      "Size:  Large\n",
      "Since:  04/01/1998\n",
      "CreditWorthy:  True\n",
      "Dealer:  False\n"
     ]
    }
   ],
   "source": [
    "# Show results of Client \n",
    "client = Client(1, 'Aldo Motors', '4, Scale Street', '', 'Ottoxeter', 'Staffs', 'ST17 99RZ', 'East Midlans', 'ST', 1, 'Wholesaler', 'Large', '04/01/1998', True, False)\n",
    "client.displayClient()"
   ]
  },
  {
   "cell_type": "code",
   "execution_count": 4,
   "metadata": {},
   "outputs": [],
   "source": [
    "# Color class\n",
    "class Color: \n",
    "  def __init__(self, colorID, color):\n",
    "    self.colorID = colorID\n",
    "    self.color = color\n",
    "\n",
    "  def displayColor(self):\n",
    "    print('-----COLOR-----')\n",
    "    print('ID:', self.colorID)\n",
    "    print('Color:', self.color)"
   ]
  },
  {
   "cell_type": "code",
   "execution_count": 5,
   "metadata": {},
   "outputs": [
    {
     "name": "stdout",
     "output_type": "stream",
     "text": [
      "-----COLOR-----\n",
      "ID: 1\n",
      "Color: Red\n"
     ]
    }
   ],
   "source": [
    "# Show results of Color\n",
    "color = Color(1, 'Red')\n",
    "color.displayColor()"
   ]
  },
  {
   "cell_type": "code",
   "execution_count": 6,
   "metadata": {},
   "outputs": [],
   "source": [
    "# Country class\n",
    "class Country:\n",
    " def __init__(self, countryID, countryName, countryIsoCode):\n",
    "  self.countryID = countryID\n",
    "  self.countryName = countryName\n",
    "  self.countryIsoCode = countryIsoCode\n",
    "\n",
    " def displayCountry(self):\n",
    "    print('-----COUNTRY-----')\n",
    "    print('ID: ', self.countryID)\n",
    "    print('Name: ', self.countryName)\n",
    "    print('ISO Code: ', self.countryIsoCode)"
   ]
  },
  {
   "cell_type": "code",
   "execution_count": 7,
   "metadata": {},
   "outputs": [
    {
     "name": "stdout",
     "output_type": "stream",
     "text": [
      "-----COUNTRY-----\n",
      "ID:  4\n",
      "Name:  Germany\n",
      "ISO Code:  DEU\n"
     ]
    }
   ],
   "source": [
    "# Show results of Country\n",
    "country = Country(4, 'Germany', 'DEU')\n",
    "country.displayCountry()"
   ]
  },
  {
   "cell_type": "code",
   "execution_count": 8,
   "metadata": {},
   "outputs": [],
   "source": [
    "# Stock class\n",
    "class Stock:\n",
    "  def __init__(self, stockID, make, model, colorID, vehicleType, costPrice,\n",
    "               spareParts, laborCost, registrationDate, mileage, purchaseDate,\n",
    "               vehicleAgeInYears):\n",
    "    self.stockID = stockID\n",
    "    self.make = make\n",
    "    self.model = model\n",
    "    self.colorID = colorID\n",
    "    self.vehicleType = vehicleType\n",
    "    self.costPrice = costPrice\n",
    "    self.spareParts = spareParts\n",
    "    self.laborCost = laborCost\n",
    "    self.registrationDate = registrationDate\n",
    "    self.mileage = mileage\n",
    "    self.purchaseDate = purchaseDate\n",
    "    self.vehicleAgeInYears = vehicleAgeInYears\n",
    "\n",
    "  def displayStock(self): \n",
    "    print('-----STOCK----- ')\n",
    "    print('ID: ', self.stockID)\n",
    "    print('Make: ', self.make)\n",
    "    print('Model: ', self.model)\n",
    "    print('Color ID: ', self.colorID)\n",
    "    print('Type: ', self.vehicleType)\n",
    "    print('Price: ', self.costPrice)\n",
    "    print('Spare parts: ', self.spareParts)\n",
    "    print('Labor cost: ', self.laborCost)\n",
    "    print('Registration: ', self.registrationDate)\n",
    "    print('Mileage: ', self.mileage)\n",
    "    print('Purchase Date: ', self.purchaseDate)\n",
    "    print('Age in years: ', self.vehicleAgeInYears)"
   ]
  },
  {
   "cell_type": "code",
   "execution_count": 9,
   "metadata": {},
   "outputs": [
    {
     "name": "stdout",
     "output_type": "stream",
     "text": [
      "-----STOCK----- \n",
      "ID:  4\n",
      "Make:  Rolls Royce\n",
      "Model:  Silver Ghost\n",
      "Color ID:  2\n",
      "Type:  Saloon\n",
      "Price:  88000\n",
      "Spare parts:  85\n",
      "Labor cost:  550\n",
      "Registration:  05/01/1987\n",
      "Mileage:  127220\n",
      "Purchase Date:  01/01/2012\n",
      "Age in years:  31\n"
     ]
    }
   ],
   "source": [
    "# Show results of Stock\n",
    "stock = Stock(4, 'Rolls Royce', 'Silver Ghost', 2, 'Saloon', 88000, 85, 550,'05/01/1987', 127220, '01/01/2012', 31)\n",
    "stock.displayStock()"
   ]
  },
  {
   "cell_type": "code",
   "execution_count": 10,
   "metadata": {},
   "outputs": [],
   "source": [
    "#Invoice class\n",
    "class Invoice:\n",
    "  def __init__(self,invoiceID, invoiceNumber, clientID, invoiceDate,\n",
    "               totalDiscount, deliveryCharge, invoiceDateKey):\n",
    "    self.invoiceID = invoiceID\n",
    "    self.invoiceNumber = invoiceNumber\n",
    "    self.clientID = clientID\n",
    "    self.invoiceDate = invoiceDate\n",
    "    self.totalDiscount = totalDiscount\n",
    "    self.deliveryCharge = deliveryCharge\n",
    "    self.invoiceDateKey = invoiceDateKey\n",
    "\n",
    "  def displayInvoice(self):\n",
    "    print('-----INVOICE----- ')\n",
    "    print('ID: ', self.invoiceID)\n",
    "    print('Number: ', self.invoiceNumber)\n",
    "    print('Client ID: ', self.clientID)\n",
    "    print('Invoice Date: ', self.invoiceDate)\n",
    "    print('Total discount: ', self.totalDiscount)\n",
    "    print('DeliveryCharge: ', self.deliveryCharge)\n",
    "    print('InvoiceDateKey: ', self.invoiceDateKey)"
   ]
  },
  {
   "cell_type": "code",
   "execution_count": 11,
   "metadata": {},
   "outputs": [
    {
     "name": "stdout",
     "output_type": "stream",
     "text": [
      "-----INVOICE----- \n",
      "ID:  1\n",
      "Number:  8B3D7F83-F42C-4523-A737-CDCBF7705B77\n",
      "Client ID:  1\n",
      "Invoice Date:  04/10/2012  12:00:00 a. m.\n",
      "Total discount:  500\n",
      "DeliveryCharge:  750\n",
      "InvoiceDateKey:  20121004\n"
     ]
    }
   ],
   "source": [
    "# Show results of Invoice\n",
    "invoice = Invoice(1, '8B3D7F83-F42C-4523-A737-CDCBF7705B77', 1, '04/10/2012  12:00:00 a. m.', 500, 750, 20121004)\n",
    "invoice.displayInvoice()"
   ]
  },
  {
   "cell_type": "code",
   "execution_count": 12,
   "metadata": {},
   "outputs": [],
   "source": [
    "# InvoiceLine class\n",
    "class InvoiceLine:\n",
    "  def __init__(self, invoiceLineID, invoiceID, stockID, salePrice, lineItem):\n",
    "    self.invoiceLineID = invoiceLineID\n",
    "    self.invoiceID = invoiceID\n",
    "    self.stockID = stockID\n",
    "    self.salePrice = salePrice\n",
    "    self.lineItem = lineItem\n",
    "\n",
    "  def displayInvoiceLine(self): \n",
    "    print('-----INVOICELINE----- ')\n",
    "    print('Invoiceline ID: ', self.invoiceLineID)\n",
    "    print('Invoice: ', self.invoiceID)\n",
    "    print('Stock ID: ', self.stockID)\n",
    "    print('Sale Price: ', self.salePrice)\n",
    "    print('Line Item: ', self.lineItem)"
   ]
  },
  {
   "cell_type": "code",
   "execution_count": 13,
   "metadata": {},
   "outputs": [
    {
     "name": "stdout",
     "output_type": "stream",
     "text": [
      "-----INVOICELINE----- \n",
      "Invoiceline ID:  3\n",
      "Invoice:  1\n",
      "Stock ID:  1\n",
      "Sale Price:  95000\n",
      "Line Item:  1\n"
     ]
    }
   ],
   "source": [
    "# Show result of InvoiceLine \n",
    "invoiceLine = InvoiceLine(3, 1, 1, 95000, 1)\n",
    "invoiceLine.displayInvoiceLine()"
   ]
  },
  {
   "cell_type": "code",
   "execution_count": 14,
   "metadata": {},
   "outputs": [],
   "source": [
    "# DateDimension class\n",
    "class DateDimension:\n",
    "  def __init__(self, dateKey, year, monthNum, monthFull, monthAbbr, quarterNum,\n",
    "              quarterFull, quarterAbbr, yearAndQuarterNum, quarterAbbrAndYear,\n",
    "              monthAbbrAndYear, monthAndYear, monthName, monthNameAbbr, quarterAndYear,\n",
    "              quarterAndYearAbbr2, yearAndMonth):\n",
    "    self.dateKey = dateKey\n",
    "    self.year = year\n",
    "    self.monthNum = monthNum\n",
    "    self.monthFull = monthFull\n",
    "    self.monthAbbr = monthAbbr\n",
    "    self.quarterNum = quarterNum\n",
    "    self.quarterFull = quarterFull\n",
    "    self.monthNum = monthNum\n",
    "    self.monthFull = monthFull\n",
    "    self.quarterAbbr = quarterAbbr\n",
    "    self.yearAndQuarterNum = yearAndQuarterNum\n",
    "    self.quarterAbbrAndYear = quarterAbbrAndYear\n",
    "    self.monthAbbrAndYear = monthAbbrAndYear\n",
    "    self.monthAndYear = monthAndYear\n",
    "    self.monthName = monthName\n",
    "    self.monthNameAbbr = monthNameAbbr\n",
    "    self.quarterAndYear = quarterAndYear\n",
    "    self.quarterAndYearAbbr2 = quarterAndYearAbbr2\n",
    "    self.yearAndMonth = yearAndMonth\n",
    "\n",
    "  def displayDateDimension(self): \n",
    "    print('-----DATE DIMENSION----- ')\n",
    "    print('Date Key: ', self.dateKey)\n",
    "    print('Year: ', self.year)\n",
    "    print('Month num: ', self.monthNum)\n",
    "    print('Month Full: ', self.monthFull)\n",
    "    print('Mont Abbr: ', self.monthAbbr)\n",
    "    print('Quarter Num: ', self.quarterNum)\n",
    "    print('Quarter Full: ', self.quarterFull)\n",
    "    print('Quarter Abbr: ', self.quarterAbbr)\n",
    "    print('Year and Quarter Num: ', self.yearAndQuarterNum)\n",
    "    print('Quarter Abbr and Year: ', self.quarterAbbrAndYear)\n",
    "    print('Month Abbr and Year: ', self.monthAbbrAndYear)\n",
    "    print('Month and Year: ', self.monthAndYear)\n",
    "    print('Month Name: ', self.monthName)\n",
    "    print('Month Name Abbr: ', self.monthNameAbbr)\n",
    "    print('Quarter and Year: ', self.quarterAndYear)\n",
    "    print('Quarter and Year Abbr2: ', self.quarterAndYearAbbr2)\n",
    "    print('Year and Month: ', self.yearAndMonth)"
   ]
  },
  {
   "cell_type": "code",
   "execution_count": 15,
   "metadata": {},
   "outputs": [
    {
     "name": "stdout",
     "output_type": "stream",
     "text": [
      "-----DATE DIMENSION----- \n",
      "Date Key:  19/12/2012\n",
      "Year:  2012\n",
      "Month num:  12\n",
      "Month Full:  December\n",
      "Mont Abbr:  Dec\n",
      "Quarter Num:  4\n",
      "Quarter Full:  Quarter 4\n",
      "Quarter Abbr:  Q4\n",
      "Year and Quarter Num:  20124\n",
      "Quarter Abbr and Year:  Q4 2012\n",
      "Month Abbr and Year:  Dec 2012\n",
      "Month and Year:  December 2012\n",
      "Month Name:  December\n",
      "Month Name Abbr:  Dec\n",
      "Quarter and Year:  Quarter 4 2012\n",
      "Quarter and Year Abbr2:  Qtr 4 2012\n",
      "Year and Month:  201212\n"
     ]
    }
   ],
   "source": [
    "# Show results of DateDimension\n",
    "dateDimension = DateDimension('19/12/2012', 2012, 12, 'December', 'Dec', 4,\n",
    "              'Quarter 4', 'Q4', 20124, 'Q4 2012',\n",
    "              'Dec 2012', 'December 2012', 'December', 'Dec', 'Quarter 4 2012',\n",
    "              'Qtr 4 2012', 201212)\n",
    "\n",
    "dateDimension.displayDateDimension()"
   ]
  },
  {
   "cell_type": "markdown",
   "metadata": {},
   "source": [
    "2. Based on the point number one, define a class to include another kind of transportation vehicle. Include properties and methods that you consider required."
   ]
  },
  {
   "cell_type": "code",
   "execution_count": 16,
   "metadata": {},
   "outputs": [],
   "source": [
    "# Air transport\n",
    "class Aircraft:\n",
    "  def __init__(self,  code, make, model, typeTransport, capacity, price):\n",
    "    self.code = code\n",
    "    self.make = make\n",
    "    self.model = model\n",
    "    self.typeTransport = typeTransport\n",
    "    self.capacity = capacity\n",
    "    self.price = price \n",
    "\n",
    "  def displayAircraft(self):\n",
    "    print('--- AIR TRANSPORT---')\n",
    "    print('Code: ', self.code)\n",
    "    print('Make: ', self.make)\n",
    "    print('Model: ', self.model)\n",
    "    print('Type Transport: ', self.typeTransport)\n",
    "    print('Capacity: ', self.capacity, 'Kg')\n",
    "    print('Price: ', '$', self.price, 'million')"
   ]
  },
  {
   "cell_type": "code",
   "execution_count": 17,
   "metadata": {},
   "outputs": [
    {
     "name": "stdout",
     "output_type": "stream",
     "text": [
      "--- AIR TRANSPORT---\n",
      "Code:  2\n",
      "Make:  Boeing Commercial Airplanes\n",
      "Model:  Boeing 747-8\n",
      "Type Transport:  Commercial\n",
      "Capacity:  447.696 Kg\n",
      "Price:  $ 418.4 million\n"
     ]
    }
   ],
   "source": [
    "boeing = Aircraft(2, 'Boeing Commercial Airplanes', 'Boeing 747-8', 'Commercial', 447.696, 418.4)\n",
    "boeing.displayAircraft()"
   ]
  }
 ],
 "metadata": {
  "kernelspec": {
   "display_name": "Python 3",
   "language": "python",
   "name": "python3"
  },
  "language_info": {
   "codemirror_mode": {
    "name": "ipython",
    "version": 3
   },
   "file_extension": ".py",
   "mimetype": "text/x-python",
   "name": "python",
   "nbconvert_exporter": "python",
   "pygments_lexer": "ipython3",
   "version": "3.12.2"
  }
 },
 "nbformat": 4,
 "nbformat_minor": 2
}
